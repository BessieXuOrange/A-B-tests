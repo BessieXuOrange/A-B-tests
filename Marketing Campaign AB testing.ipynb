{
 "cells": [
  {
   "cell_type": "markdown",
   "metadata": {},
   "source": [
    "# Marketing Campaign A/B Testing - Proportion\n",
    "Company A has recently identified that the click-through rate (CTR) of a display banner is performing below the established benchmark. In an effort to address this issue, they are interested in exploring whether the implementation of a new creative featuring an attention-grabbing call-out could potentially enhance the click-through rate. Could you develop an experiment to address this challenge?"
   ]
  },
  {
   "cell_type": "code",
   "execution_count": 1,
   "metadata": {},
   "outputs": [
    {
     "name": "stdout",
     "output_type": "stream",
     "text": [
      "Requirement already satisfied: pandas in c:\\users\\bessie xu\\appdata\\local\\programs\\python\\python311\\lib\\site-packages (2.2.0)\n",
      "Requirement already satisfied: numpy<2,>=1.23.2 in c:\\users\\bessie xu\\appdata\\local\\programs\\python\\python311\\lib\\site-packages (from pandas) (1.26.3)\n",
      "Requirement already satisfied: python-dateutil>=2.8.2 in c:\\users\\bessie xu\\appdata\\roaming\\python\\python311\\site-packages (from pandas) (2.8.2)\n",
      "Requirement already satisfied: pytz>=2020.1 in c:\\users\\bessie xu\\appdata\\local\\programs\\python\\python311\\lib\\site-packages (from pandas) (2024.1)\n",
      "Requirement already satisfied: tzdata>=2022.7 in c:\\users\\bessie xu\\appdata\\local\\programs\\python\\python311\\lib\\site-packages (from pandas) (2023.4)\n",
      "Requirement already satisfied: six>=1.5 in c:\\users\\bessie xu\\appdata\\roaming\\python\\python311\\site-packages (from python-dateutil>=2.8.2->pandas) (1.16.0)\n"
     ]
    },
    {
     "name": "stderr",
     "output_type": "stream",
     "text": [
      "\n",
      "[notice] A new release of pip available: 22.3.1 -> 24.0\n",
      "[notice] To update, run: python.exe -m pip install --upgrade pip\n"
     ]
    },
    {
     "name": "stdout",
     "output_type": "stream",
     "text": [
      "Requirement already satisfied: matplotlib in c:\\users\\bessie xu\\appdata\\local\\programs\\python\\python311\\lib\\site-packages (3.8.2)\n",
      "Requirement already satisfied: contourpy>=1.0.1 in c:\\users\\bessie xu\\appdata\\local\\programs\\python\\python311\\lib\\site-packages (from matplotlib) (1.2.0)\n",
      "Requirement already satisfied: cycler>=0.10 in c:\\users\\bessie xu\\appdata\\local\\programs\\python\\python311\\lib\\site-packages (from matplotlib) (0.12.1)\n",
      "Requirement already satisfied: fonttools>=4.22.0 in c:\\users\\bessie xu\\appdata\\local\\programs\\python\\python311\\lib\\site-packages (from matplotlib) (4.47.2)\n",
      "Requirement already satisfied: kiwisolver>=1.3.1 in c:\\users\\bessie xu\\appdata\\local\\programs\\python\\python311\\lib\\site-packages (from matplotlib) (1.4.5)\n",
      "Requirement already satisfied: numpy<2,>=1.21 in c:\\users\\bessie xu\\appdata\\local\\programs\\python\\python311\\lib\\site-packages (from matplotlib) (1.26.3)\n",
      "Requirement already satisfied: packaging>=20.0 in c:\\users\\bessie xu\\appdata\\roaming\\python\\python311\\site-packages (from matplotlib) (23.2)\n",
      "Requirement already satisfied: pillow>=8 in c:\\users\\bessie xu\\appdata\\local\\programs\\python\\python311\\lib\\site-packages (from matplotlib) (10.2.0)\n",
      "Requirement already satisfied: pyparsing>=2.3.1 in c:\\users\\bessie xu\\appdata\\local\\programs\\python\\python311\\lib\\site-packages (from matplotlib) (3.1.1)\n",
      "Requirement already satisfied: python-dateutil>=2.7 in c:\\users\\bessie xu\\appdata\\roaming\\python\\python311\\site-packages (from matplotlib) (2.8.2)\n",
      "Requirement already satisfied: six>=1.5 in c:\\users\\bessie xu\\appdata\\roaming\\python\\python311\\site-packages (from python-dateutil>=2.7->matplotlib) (1.16.0)\n"
     ]
    },
    {
     "name": "stderr",
     "output_type": "stream",
     "text": [
      "\n",
      "[notice] A new release of pip available: 22.3.1 -> 24.0\n",
      "[notice] To update, run: python.exe -m pip install --upgrade pip\n"
     ]
    },
    {
     "name": "stdout",
     "output_type": "stream",
     "text": [
      "Requirement already satisfied: statsmodels in c:\\users\\bessie xu\\appdata\\local\\programs\\python\\python311\\lib\\site-packages (0.14.1)\n",
      "Requirement already satisfied: numpy<2,>=1.18 in c:\\users\\bessie xu\\appdata\\local\\programs\\python\\python311\\lib\\site-packages (from statsmodels) (1.26.3)\n",
      "Requirement already satisfied: scipy!=1.9.2,>=1.4 in c:\\users\\bessie xu\\appdata\\local\\programs\\python\\python311\\lib\\site-packages (from statsmodels) (1.12.0)\n",
      "Requirement already satisfied: pandas!=2.1.0,>=1.0 in c:\\users\\bessie xu\\appdata\\local\\programs\\python\\python311\\lib\\site-packages (from statsmodels) (2.2.0)\n",
      "Requirement already satisfied: patsy>=0.5.4 in c:\\users\\bessie xu\\appdata\\local\\programs\\python\\python311\\lib\\site-packages (from statsmodels) (0.5.6)\n",
      "Requirement already satisfied: packaging>=21.3 in c:\\users\\bessie xu\\appdata\\roaming\\python\\python311\\site-packages (from statsmodels) (23.2)\n",
      "Requirement already satisfied: python-dateutil>=2.8.2 in c:\\users\\bessie xu\\appdata\\roaming\\python\\python311\\site-packages (from pandas!=2.1.0,>=1.0->statsmodels) (2.8.2)\n",
      "Requirement already satisfied: pytz>=2020.1 in c:\\users\\bessie xu\\appdata\\local\\programs\\python\\python311\\lib\\site-packages (from pandas!=2.1.0,>=1.0->statsmodels) (2024.1)\n",
      "Requirement already satisfied: tzdata>=2022.7 in c:\\users\\bessie xu\\appdata\\local\\programs\\python\\python311\\lib\\site-packages (from pandas!=2.1.0,>=1.0->statsmodels) (2023.4)\n",
      "Requirement already satisfied: six in c:\\users\\bessie xu\\appdata\\roaming\\python\\python311\\site-packages (from patsy>=0.5.4->statsmodels) (1.16.0)\n"
     ]
    },
    {
     "name": "stderr",
     "output_type": "stream",
     "text": [
      "\n",
      "[notice] A new release of pip available: 22.3.1 -> 24.0\n",
      "[notice] To update, run: python.exe -m pip install --upgrade pip\n"
     ]
    }
   ],
   "source": [
    "!pip3 install pandas\n",
    "!pip3 install matplotlib\n",
    "!pip3 install statsmodels\n"
   ]
  },
  {
   "cell_type": "code",
   "execution_count": 2,
   "metadata": {},
   "outputs": [
    {
     "name": "stderr",
     "output_type": "stream",
     "text": [
      "C:\\Users\\Bessie Xu\\AppData\\Local\\Temp\\ipykernel_21780\\3031232317.py:1: DeprecationWarning: \n",
      "Pyarrow will become a required dependency of pandas in the next major release of pandas (pandas 3.0),\n",
      "(to allow more performant data types, such as the Arrow string type, and better interoperability with other libraries)\n",
      "but was not found to be installed on your system.\n",
      "If this would cause problems for you,\n",
      "please provide us feedback at https://github.com/pandas-dev/pandas/issues/54466\n",
      "        \n",
      "  import pandas as pd\n"
     ]
    }
   ],
   "source": [
    "import pandas as pd\n",
    "import matplotlib.pyplot as plt\n",
    "import numpy as np\n",
    "import math\n",
    "from statsmodels.stats.power import ttest_power, tt_ind_solve_power\n",
    "from statsmodels.stats.weightstats import ttest_ind\n",
    "from statsmodels.stats.proportion import proportions_chisquare, confint_proportions_2indep\n",
    "import statsmodels.api as sm\n",
    "import statsmodels.stats.api as sms\n",
    "import scipy.stats as stats"
   ]
  },
  {
   "cell_type": "code",
   "execution_count": 3,
   "metadata": {},
   "outputs": [
    {
     "name": "stderr",
     "output_type": "stream",
     "text": [
      "C:\\Users\\Bessie Xu\\AppData\\Local\\Temp\\ipykernel_21780\\3394205138.py:2: DtypeWarning: Columns (2) have mixed types. Specify dtype option on import or set low_memory=False.\n",
      "  pretest = pd.read_csv(\"d:\\Studying\\AB Testing\\XHS AB testing\\AB Testing Practice Proportion Dataset\\pretest.csv\")\n"
     ]
    }
   ],
   "source": [
    "# upload dataset\n",
    "pretest = pd.read_csv(\"d:\\Studying\\AB Testing\\XHS AB testing\\AB Testing Practice Proportion Dataset\\pretest.csv\")"
   ]
  },
  {
   "cell_type": "code",
   "execution_count": 4,
   "metadata": {},
   "outputs": [
    {
     "name": "stdout",
     "output_type": "stream",
     "text": [
      "        impression_id    date experiment  group  clicked  spend\n",
      "0                   1  6/1/23        NaN    NaN        0  0.005\n",
      "1                   2  6/1/23        NaN    NaN        0  0.005\n",
      "2                   3  6/1/23        NaN    NaN        0  0.005\n",
      "3                   4  6/1/23        NaN    NaN        0  0.005\n",
      "4                   5  6/1/23        NaN    NaN        0  0.005\n",
      "...               ...     ...        ...    ...      ...    ...\n",
      "309898         309899  7/1/23        NaN    NaN        1  0.005\n",
      "309899         309900  7/1/23    AA_test    0.0        0  0.005\n",
      "309900         309901  7/1/23        NaN    NaN        0  0.005\n",
      "309901         309902  7/1/23        NaN    NaN        0  0.005\n",
      "309902         309903  7/1/23        NaN    NaN        0  0.005\n",
      "\n",
      "[309903 rows x 6 columns]\n"
     ]
    }
   ],
   "source": [
    "print(pretest)"
   ]
  },
  {
   "cell_type": "markdown",
   "metadata": {},
   "source": [
    "# 1. power analysis"
   ]
  },
  {
   "cell_type": "code",
   "execution_count": 5,
   "metadata": {},
   "outputs": [
    {
     "name": "stderr",
     "output_type": "stream",
     "text": [
      "C:\\Users\\Bessie Xu\\AppData\\Local\\Temp\\ipykernel_21780\\3313573401.py:3: UserWarning: Could not infer format, so each element will be parsed individually, falling back to `dateutil`. To ensure parsing is consistent and as-expected, please specify a format.\n",
      "  pretest['date']=pd.to_datetime(pretest['date'])\n"
     ]
    },
    {
     "name": "stdout",
     "output_type": "stream",
     "text": [
      "CTR:  0.101\n",
      "Average CPM:  0.005\n"
     ]
    }
   ],
   "source": [
    "# calculate sample size for the test\n",
    "# 1. mean & std\n",
    "pretest['date']=pd.to_datetime(pretest['date'])\n",
    "\n",
    "avg_CTR = pretest.clicked.mean()\n",
    "print(\"CTR: \", avg_CTR.round(4))\n",
    "\n",
    "avg_CPM = pretest.spend.sum()/pretest.impression_id.count()\n",
    "print(\"Average CPM: \", avg_CPM.round(4))"
   ]
  },
  {
   "cell_type": "code",
   "execution_count": 6,
   "metadata": {},
   "outputs": [
    {
     "name": "stdout",
     "output_type": "stream",
     "text": [
      "sample size need for each group: 14584.67432047729\n",
      "sample size needed for the test: 29169.34864095458\n"
     ]
    }
   ],
   "source": [
    "# 2.effect size & input parameters\n",
    "MDE = 0.1 ## empirical threshold\n",
    "significance_level = 0.05\n",
    "power = 0.8\n",
    "effect_size = sm.stats.proportion_effectsize(avg_CTR, avg_CTR*(1+MDE))\n",
    "\n",
    "# calculate for equal sample size\n",
    "sample_size = tt_ind_solve_power(effect_size=effect_size,\n",
    "                                 alpha = significance_level,\n",
    "                                 power = power,\n",
    "                                 ratio = 1,\n",
    "                                 alternative='two-sided',\n",
    "                                 nobs1= None)\n",
    "\n",
    "print(\"sample size need for each group: \" + str(sample_size))\n",
    "print(\"sample size needed for the test: \" + str(sample_size*2))"
   ]
  },
  {
   "cell_type": "markdown",
   "metadata": {},
   "source": [
    "# 2. Test Duration"
   ]
  },
  {
   "cell_type": "code",
   "execution_count": 7,
   "metadata": {},
   "outputs": [
    {
     "name": "stdout",
     "output_type": "stream",
     "text": [
      "Based on the last month data, the average daily impression is:  9996.870967741936\n",
      "Baed on the last month data, the test duration would better to be:  2.9178478681058007\n"
     ]
    }
   ],
   "source": [
    "# group by date, and count unique impression_id\n",
    "daily_unique_imp = pretest.groupby('date')['impression_id'].nunique()\n",
    "# avg daily impression count\n",
    "avg_daily_unique_imp = daily_unique_imp.mean()\n",
    "# test duration base on sample size\n",
    "test_duration = sample_size*2/avg_daily_unique_imp\n",
    "print(\"Based on the last month data, the average daily impression is: \", avg_daily_unique_imp)\n",
    "print(\"Baed on the last month data, the test duration would better to be: \", test_duration)"
   ]
  },
  {
   "cell_type": "code",
   "execution_count": 8,
   "metadata": {},
   "outputs": [
    {
     "name": "stdout",
     "output_type": "stream",
     "text": [
      "The ajusted test duration would be:  7\n"
     ]
    }
   ],
   "source": [
    "# Optimize the test duration to be a full week\n",
    "ajusted_test_duration = math.ceil(test_duration/7)*7\n",
    "print(\"The ajusted test duration would be: \", ajusted_test_duration)"
   ]
  },
  {
   "cell_type": "markdown",
   "metadata": {},
   "source": [
    "# 3. Budget"
   ]
  },
  {
   "cell_type": "code",
   "execution_count": 9,
   "metadata": {},
   "outputs": [
    {
     "name": "stdout",
     "output_type": "stream",
     "text": [
      "Total test budget would be:  145.85\n",
      "Daily spend budget would be:  20.84\n"
     ]
    }
   ],
   "source": [
    "# linear estimation, budget = sample size * cost per impression\n",
    "total_spend_budget = sample_size *2 * avg_CPM\n",
    "daily_spend_budget = total_spend_budget/ajusted_test_duration\n",
    "\n",
    "print(\"Total test budget would be: \", f'{total_spend_budget:.2f}')\n",
    "print(\"Daily spend budget would be: \", f'{daily_spend_budget:.2f}')"
   ]
  },
  {
   "cell_type": "markdown",
   "metadata": {},
   "source": [
    "# 4. Validity Test \n",
    "-AA test\n",
    "-SRM test(sample ratio mismatch)\n",
    "-Novelty Effect"
   ]
  },
  {
   "cell_type": "code",
   "execution_count": 10,
   "metadata": {},
   "outputs": [
    {
     "name": "stdout",
     "output_type": "stream",
     "text": [
      "-------- AA test --------\n",
      "Control group CTR: 0.101\n",
      "Treatment group CTR: 0.0988\n"
     ]
    }
   ],
   "source": [
    "# 1. AA test (is there any big diff in CTR between control & treatment group? )\n",
    "AA_test = pretest[pretest.experiment == 'AA_test']\n",
    "# control group 0, treat group 1\n",
    "AA_control = AA_test[AA_test.group == 0]['clicked']\n",
    "AA_treatment = AA_test[AA_test.group == 1]['clicked']\n",
    "\n",
    "AA_control_cnt = AA_control.sum()\n",
    "AA_control_rate = AA_control.mean()\n",
    "AA_control_size = AA_control.count()\n",
    "\n",
    "AA_treatment_cnt = AA_treatment.sum()\n",
    "AA_treatment_rate = AA_treatment.mean()\n",
    "AA_treatment_size = AA_treatment.count()\n",
    "\n",
    "print(\"-------- AA test --------\")\n",
    "print(f'Control group CTR: {AA_control_rate:.3}')\n",
    "print(f'Treatment group CTR: {AA_treatment_rate:.3}')"
   ]
  },
  {
   "cell_type": "code",
   "execution_count": 11,
   "metadata": {},
   "outputs": [
    {
     "name": "stdout",
     "output_type": "stream",
     "text": [
      "--------- AA test (2023-06-18 - 2023-07-01)--------\n",
      "\n",
      "H0: The CTR between 2 creatives are the same.\n",
      "Ha: The CTR between 2 creatives are different. \n",
      "\n",
      "Chi-square = 0.577 | P-value = 0.448\n",
      "\n",
      "Conclusion:\n",
      "Fail to reject H0. Proceed with the AB test\n"
     ]
    }
   ],
   "source": [
    "# Chi-squared test: compaing proportions in categorical data\n",
    "# statsmodels.stats.proportion: proportion_chisquare function\n",
    "AA_chistats, AA_pvalue, AA_tab = proportions_chisquare([AA_control_cnt, AA_treatment_cnt], nobs=[AA_control_size, AA_treatment_size])\n",
    "\n",
    "first_date = AA_test['date'].min().date()\n",
    "last_date = AA_test['date'].max().date()\n",
    "\n",
    "AA_alpha = 0.05\n",
    "\n",
    "print(f'--------- AA test ({first_date} - {last_date})--------\\n')\n",
    "print('H0: The CTR between 2 creatives are the same.')\n",
    "print('Ha: The CTR between 2 creatives are different. \\n')\n",
    "print(f'Chi-square = {AA_chistats:.3f} | P-value = {AA_pvalue:.3f}')\n",
    "\n",
    "print('\\nConclusion:')\n",
    "if AA_pvalue < AA_alpha:\n",
    "    print('Reject H0, there is statistical significance between the two groups. Check for instrumentation errors')\n",
    "else:\n",
    "    print('Fail to reject H0. Proceed with the AB test')\n"
   ]
  },
  {
   "cell_type": "code",
   "execution_count": 12,
   "metadata": {},
   "outputs": [
    {
     "data": {
      "image/png": "[encoded data removed]",
      "text/plain": [
       "<Figure size 600x400 with 1 Axes>"
      ]
     },
     "metadata": {},
     "output_type": "display_data"
    }
   ],
   "source": [
    "# Avg sales per user per day:\n",
    "AA_CTR_per_day = AA_test.groupby(['group','date'])['clicked'].mean()\n",
    "AA_control_ctr = AA_CTR_per_day.loc[0]\n",
    "AA_treatment_ctr = AA_CTR_per_day.loc[1]\n",
    "\n",
    "# day range\n",
    "exp_day = range(1, AA_test['date'].nunique()+1)\n",
    "\n",
    "f, ax = plt.subplots(figsize = (6,4))\n",
    "ax.plot(exp_day, AA_control_ctr, label ='Control', color = 'b')\n",
    "ax.plot(exp_day, AA_treatment_ctr, label = \"Treatment\", color = 'g')\n",
    "\n",
    "ax.set_xticks(exp_day)\n",
    "ax.set_title('AA Test')\n",
    "ax.set_ylabel('CTR per day')\n",
    "ax.set_xlabel('Days in the Experiment')\n",
    "ax.legend()\n",
    "plt.show()"
   ]
  },
  {
   "cell_type": "code",
   "execution_count": 13,
   "metadata": {},
   "outputs": [
    {
     "name": "stdout",
     "output_type": "stream",
     "text": [
      "<class 'pandas.core.frame.DataFrame'>\n",
      "RangeIndex: 69961 entries, 0 to 69960\n",
      "Data columns (total 5 columns):\n",
      " #   Column         Non-Null Count  Dtype \n",
      "---  ------         --------------  ----- \n",
      " 0   impression_id  69961 non-null  int64 \n",
      " 1   date           69961 non-null  object\n",
      " 2   experiment     15055 non-null  object\n",
      " 3   group          69961 non-null  int64 \n",
      " 4   clicked        69961 non-null  int64 \n",
      "dtypes: int64(3), object(2)\n",
      "memory usage: 2.7+ MB\n"
     ]
    },
    {
     "data": {
      "text/html": [
       "<div>\n",
       "<style scoped>\n",
       "    .dataframe tbody tr th:only-of-type {\n",
       "        vertical-align: middle;\n",
       "    }\n",
       "\n",
       "    .dataframe tbody tr th {\n",
       "        vertical-align: top;\n",
       "    }\n",
       "\n",
       "    .dataframe thead th {\n",
       "        text-align: right;\n",
       "    }\n",
       "</style>\n",
       "<table border=\"1\" class=\"dataframe\">\n",
       "  <thead>\n",
       "    <tr style=\"text-align: right;\">\n",
       "      <th></th>\n",
       "      <th>impression_id</th>\n",
       "      <th>group</th>\n",
       "      <th>clicked</th>\n",
       "    </tr>\n",
       "  </thead>\n",
       "  <tbody>\n",
       "    <tr>\n",
       "      <th>count</th>\n",
       "      <td>69961.000000</td>\n",
       "      <td>69961.000000</td>\n",
       "      <td>69961.000000</td>\n",
       "    </tr>\n",
       "    <tr>\n",
       "      <th>mean</th>\n",
       "      <td>34981.000000</td>\n",
       "      <td>0.498192</td>\n",
       "      <td>0.104901</td>\n",
       "    </tr>\n",
       "    <tr>\n",
       "      <th>std</th>\n",
       "      <td>20196.145428</td>\n",
       "      <td>0.500000</td>\n",
       "      <td>0.306428</td>\n",
       "    </tr>\n",
       "    <tr>\n",
       "      <th>min</th>\n",
       "      <td>1.000000</td>\n",
       "      <td>0.000000</td>\n",
       "      <td>0.000000</td>\n",
       "    </tr>\n",
       "    <tr>\n",
       "      <th>25%</th>\n",
       "      <td>17491.000000</td>\n",
       "      <td>0.000000</td>\n",
       "      <td>0.000000</td>\n",
       "    </tr>\n",
       "    <tr>\n",
       "      <th>50%</th>\n",
       "      <td>34981.000000</td>\n",
       "      <td>0.000000</td>\n",
       "      <td>0.000000</td>\n",
       "    </tr>\n",
       "    <tr>\n",
       "      <th>75%</th>\n",
       "      <td>52471.000000</td>\n",
       "      <td>1.000000</td>\n",
       "      <td>0.000000</td>\n",
       "    </tr>\n",
       "    <tr>\n",
       "      <th>max</th>\n",
       "      <td>69961.000000</td>\n",
       "      <td>1.000000</td>\n",
       "      <td>1.000000</td>\n",
       "    </tr>\n",
       "  </tbody>\n",
       "</table>\n",
       "</div>"
      ],
      "text/plain": [
       "       impression_id         group       clicked\n",
       "count   69961.000000  69961.000000  69961.000000\n",
       "mean    34981.000000      0.498192      0.104901\n",
       "std     20196.145428      0.500000      0.306428\n",
       "min         1.000000      0.000000      0.000000\n",
       "25%     17491.000000      0.000000      0.000000\n",
       "50%     34981.000000      0.000000      0.000000\n",
       "75%     52471.000000      1.000000      0.000000\n",
       "max     69961.000000      1.000000      1.000000"
      ]
     },
     "execution_count": 13,
     "metadata": {},
     "output_type": "execute_result"
    }
   ],
   "source": [
    "# 2. SRM test (sample ratio mismatch)\n",
    "#(check the test result data)\n",
    "test_result = pd.read_csv(\"d:\\\\Studying\\\\AB Testing\\\\XHS AB testing\\\\AB Testing Practice Proportion Dataset\\\\test.csv\")\n",
    "\n",
    "test_result.info()\n",
    "test_result.describe()\n"
   ]
  },
  {
   "cell_type": "code",
   "execution_count": 14,
   "metadata": {},
   "outputs": [
    {
     "name": "stdout",
     "output_type": "stream",
     "text": [
      "Obervered counts:  [7463 7592]\n",
      "Expected counts:  [7527.5, 7527.5]\n",
      "-------- Chi-square test for SRM -------\n",
      "\n",
      "H0: the ratio of sample is around 1:1.\n",
      "Ha: the ratio of sample is not 1:1.\n",
      "\n",
      "Significance level: 0.05\n",
      "Chi-Square = 1.105 | P-value = 0.293\n",
      "\n",
      "Conclusion:\n",
      "Fail to reject H0, no SRM, proceed with the AB test\n"
     ]
    }
   ],
   "source": [
    "# use the package: import scipy.stats as stats\n",
    "SRM_alpha = 0.05\n",
    "\n",
    "creative_test = test_result[test_result.experiment == 'creative_test']\n",
    "observed = creative_test.groupby('group')['experiment'].count().values\n",
    "expected = [creative_test.shape[0]*0.5]*2\n",
    "\n",
    "print('Obervered counts: ', observed)\n",
    "print('Expected counts: ', expected)\n",
    "\n",
    "# chi-square to test goodness of fit test\n",
    "chi_stats, pvalue = stats.chisquare(f_obs=observed, f_exp=expected)\n",
    "print(f'-------- Chi-square test for SRM -------\\n')\n",
    "print('H0: the ratio of sample is around 1:1.')\n",
    "print('Ha: the ratio of sample is not 1:1.\\n')\n",
    "print(f'Significance level: {SRM_alpha}')\n",
    "\n",
    "print(f'Chi-Square = {chi_stats:.3f} | P-value = {pvalue:.3f}')\n",
    "\n",
    "print(f'\\nConclusion:')\n",
    "if pvalue < SRM_alpha:\n",
    "    print('Reject H0 and conclude that there is statistical significance in the ratio of samples not being 1:1.There is SRM(sample ratio mismatch)')\n",
    "else:\n",
    "    print('Fail to reject H0, no SRM, proceed with the AB test')\n"
   ]
  },
  {
   "cell_type": "code",
   "execution_count": 15,
   "metadata": {},
   "outputs": [
    {
     "data": {
      "image/png": "[encoded data removed]",
      "text/plain": [
       "<Figure size 600x400 with 1 Axes>"
      ]
     },
     "metadata": {},
     "output_type": "display_data"
    }
   ],
   "source": [
    "# 3. Novelty Effect\n",
    "# testresult avg sales per user per day:\n",
    "AB_ctr_per_day = creative_test.groupby(['group','date'])['clicked'].mean()\n",
    "AB_control_ctr = AB_ctr_per_day.loc[0]\n",
    "AB_treat_ctr = AB_ctr_per_day.loc[1]\n",
    "# day range\n",
    "exp_days = range(1, creative_test['date'].nunique()+1)\n",
    "\n",
    "f, ax = plt.subplots(figsize = (6,4))\n",
    "ax.plot(exp_days, AB_control_ctr, label=\"Control\", color='b')\n",
    "ax.plot(exp_days, AB_treat_ctr, label=\"Treatment\", color='g')\n",
    "\n",
    "ax.set_xticks(exp_days)\n",
    "ax.set_title('AB Test')\n",
    "ax.set_ylabel('CTR per day')\n",
    "ax.set_xlabel('Days in the Experiment')\n",
    "ax.legend()\n",
    "plt.show()"
   ]
  },
  {
   "cell_type": "markdown",
   "metadata": {},
   "source": [
    "# 5. Conduct Statistical Inference"
   ]
  },
  {
   "cell_type": "code",
   "execution_count": 16,
   "metadata": {},
   "outputs": [
    {
     "name": "stdout",
     "output_type": "stream",
     "text": [
      "Control CTR: 0.09527\n",
      "Treatment CTR: 0.1067\n"
     ]
    }
   ],
   "source": [
    "# subset tables of control and treatment group\n",
    "control_clicks = creative_test[creative_test.group == 0]['clicked']\n",
    "treatment_clicks = creative_test[creative_test.group == 1]['clicked']\n",
    "\n",
    "# get statistics\n",
    "AB_control_cnt = control_clicks.sum()\n",
    "AB_control_rate = control_clicks.mean()\n",
    "AB_control_size = control_clicks.count()\n",
    "\n",
    "AB_treatment_cnt = treatment_clicks.sum()\n",
    "AB_treatment_rate = treatment_clicks.mean()\n",
    "AB_treatment_size = treatment_clicks.count()\n",
    "\n",
    "# Calculation\n",
    "print(f'Control CTR: {AB_control_rate:.4}')\n",
    "print(f'Treatment CTR: {AB_treatment_rate:.4}')\n"
   ]
  },
  {
   "cell_type": "code",
   "execution_count": 17,
   "metadata": {},
   "outputs": [
    {
     "name": "stdout",
     "output_type": "stream",
     "text": [
      "-------- AB Test CTR (8/1/23 - 8/7/23)--------\n",
      "\n",
      "H0: The CTR between two creatives are the same\n",
      "Ha: THe CTR between two creatives differenct. \n",
      "\n",
      "T-statistic = 2.325 | P-value = 0.020\n",
      "\n",
      "Conclusion:\n",
      "Reject H0 and conclude that there is statistical significance in the diff of CTR between 2 creatives.\n"
     ]
    }
   ],
   "source": [
    "# T-test for CTR\n",
    "AB_alpha = 0.05\n",
    "\n",
    "AB_tstat, AB_pvalue, AB_df = ttest_ind(treatment_clicks, control_clicks)\n",
    "\n",
    "first_date = creative_test['date'].min()\n",
    "last_date = creative_test['date'].max()\n",
    "\n",
    "print(f'-------- AB Test CTR ({first_date} - {last_date})--------\\n')\n",
    "print('H0: The CTR between two creatives are the same')\n",
    "print('Ha: THe CTR between two creatives differenct. \\n')\n",
    "\n",
    "print(f'T-statistic = {AB_tstat:.3f} | P-value = {AB_pvalue:.3f}')\n",
    "\n",
    "print('\\nConclusion:')\n",
    "if AB_pvalue < AB_alpha:\n",
    "    print('Reject H0 and conclude that there is statistical significance in the diff of CTR between 2 creatives.')\n",
    "else:\n",
    "    print('Fail to reject H0')   "
   ]
  },
  {
   "cell_type": "code",
   "execution_count": 19,
   "metadata": {},
   "outputs": [
    {
     "name": "stdout",
     "output_type": "stream",
     "text": [
      "Confidence Interval: (0.002, 0.021)\n",
      "Confidence Interval for lift: (1.9%, 22.1%)\n"
     ]
    }
   ],
   "source": [
    "# Create two descriptive statistics objects using test and control data\n",
    "desc_stats_test = sm.stats.DescrStatsW(treatment_clicks)\n",
    "desc_stats_control = sm.stats.DescrStatsW(control_clicks)\n",
    "\n",
    "# compare the means\n",
    "cm = sms.CompareMeans(desc_stats_test, desc_stats_control)\n",
    "\n",
    "# Calculate the CI for the diff between the means (unequal variances)\n",
    "lb, ub = cm.tconfint_diff(usevar = 'unequal')\n",
    "\n",
    "print(f'Confidence Interval: ({lb:.3f}, {ub:.3f})')\n",
    "\n",
    "# Calculate lift between test and control\n",
    "lower_lift = lb/AB_control_rate\n",
    "upper_lift = ub/AB_control_rate\n",
    "\n",
    "print(f'Confidence Interval for lift: ({lower_lift*100:.1f}%, {upper_lift*100:.1f}%)')\n"
   ]
  },
  {
   "cell_type": "code",
   "execution_count": 21,
   "metadata": {},
   "outputs": [],
   "source": [
    "# CI for the test\n",
    "ci = confint_proportions_2indep(AB_treatment_cnt, AB_treatment_size, AB_control_cnt, AB_control_size, method = None, compare='diff', alpha = 0.05, correction = True)\n",
    "lower = ci[0]\n",
    "upper = ci[1]\n",
    "lower_lift = ci[0]/AB_control_rate\n",
    "upper_lift = ci[0]/AB_control_rate"
   ]
  },
  {
   "cell_type": "code",
   "execution_count": null,
   "metadata": {},
   "outputs": [],
   "source": [
    "# Print results\n",
    "print('--------- Sample Sizes ----------')\n",
    "print(f'Control: {AB_control_size}')\n",
    "print(f'Treatment: {AB_treatment_size}')\n",
    "\n",
    "print('\\n--------- CTR ----------')\n",
    "print(f'Control: {AB_control_cnt} ({AB_control_rate*100:.1f}%)')\n",
    "print(f'Treatment: {AB_treatment_cnt} ({AB_treatment_rate*100:.1f}%)')\n",
    "\n",
    "print('\\n--------- Differences ----------')\n",
    "print(f'Absolute: {AB_treatment_rate - AB_control_rate:.4f}')\n",
    "print(f'Relative (lift): {(AB_treatment_rate - AB_control_rate) / AB_control_rate*100:.1f}%')\n",
    "\n",
    "print('\\n--------- T-Stats ----------')\n",
    "print(f'Test Statistic: {AB_tstat:3f}')\n",
    "print(f'P-Value: {AB_pvalue:.5f}')\n",
    "\n",
    "print('\\n--------- Confidence Intervals ----------')\n",
    "print(f'Absolute Difference CI: ({lower:.3f}, {upper:.3f})')\n",
    "print(f'Relative Difference (lift) CI: ({lower_lift*100:.1f}%, {upper_lift*100:.1f}%)')"
   ]
  }
 ],
 "metadata": {
  "kernelspec": {
   "display_name": "Python 3",
   "language": "python",
   "name": "python3"
  },
  "language_info": {
   "codemirror_mode": {
    "name": "ipython",
    "version": 3
   },
   "file_extension": ".py",
   "mimetype": "text/x-python",
   "name": "python",
   "nbconvert_exporter": "python",
   "pygments_lexer": "ipython3",
   "version": "3.11.1"
  }
 },
 "nbformat": 4,
 "nbformat_minor": 2
}
